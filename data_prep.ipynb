{
 "cells": [
  {
   "cell_type": "markdown",
   "metadata": {},
   "source": [
    "# Amalie's Birthday\n",
    "## The Three Codeteers Dashboard"
   ]
  },
  {
   "cell_type": "markdown",
   "metadata": {},
   "source": [
    "### Import libraries"
   ]
  },
  {
   "cell_type": "code",
   "execution_count": 22,
   "metadata": {},
   "outputs": [],
   "source": [
    "import pandas as pd\n",
    "import emoji\n",
    "import re\n",
    "import numpy as np\n",
    "from stop_words import get_stop_words \n",
    "from ftfy import fix_text\n",
    "from json import load"
   ]
  },
  {
   "cell_type": "markdown",
   "metadata": {},
   "source": [
    "### Load messages"
   ]
  },
  {
   "cell_type": "code",
   "execution_count": 91,
   "metadata": {},
   "outputs": [],
   "source": [
    "with open('message.json') as json_file:  # Load train data\n",
    "    dict_ = load(json_file)\n",
    "    \n",
    "dict_msg = dict_[\"messages\"]\n",
    "#dict_msg = dict_msg[0:200]"
   ]
  },
  {
   "cell_type": "markdown",
   "metadata": {},
   "source": [
    "### Emoji dictionary"
   ]
  },
  {
   "cell_type": "code",
   "execution_count": 92,
   "metadata": {},
   "outputs": [],
   "source": [
    "# Create a dictionary of symbols and codes of emoji\n",
    "emoji_keys = [':-)',':-d',':-3',':-p',':-o',':-0',\n",
    "                 '=-)','=-d','=-3','=-d','=-o','=-0',\n",
    "                 'x-d',';-d',';-)','>.<', 'x.x','<3',\n",
    "                 ':)',':d',':3',':p',':o',':0',\n",
    "                 '=)','=d','=3','=p','=o','=0',\n",
    "                 'xd',';d',';)',':(', ':-(','=(', \n",
    "                 '=-(',\":'(\"]\n",
    "\n",
    "emoji_values = [':simple_smile:',':smiley:',':smiley_cat:',':stuck_out_tongue:',':open_mouth:',':open_mouth:',\n",
    "                ':simple_smile:',':smiley:',':smiley_cat:',':stuck_out_tongue:',':open_mouth:',':open_mouth:',\n",
    "                 ':laughing:',':wink:',':wink:',':persevere:',':dizzy_face:',':heart:',\n",
    "                 ':simple_smile:',':smiley:',':smiley_cat:',':stuck_out_tongue:',':open_mouth:',':open_mouth:',\n",
    "                 ':simple_smile:',':smiley:',':smiley_cat:',':stuck_out_tongue:',':open_mouth:',':open_mouth:',\n",
    "                 ':laughing:',':wink:',':sad:',':pensive:',':pensive:',':pensive:',\n",
    "                 ':pensive:',':cry:']\n",
    "\n",
    "dict_emoji = dict(zip(emoji_keys, emoji_values))"
   ]
  },
  {
   "cell_type": "markdown",
   "metadata": {},
   "source": [
    "### Clean messages and store in a list"
   ]
  },
  {
   "cell_type": "code",
   "execution_count": 96,
   "metadata": {},
   "outputs": [
    {
     "data": {
      "text/plain": [
       "[[\"it's\", 'exercise', 'time'],\n",
       " ['sounds', 'good', 'with', 'a', 'walk', ':grinning_face:'],\n",
       " ['and', 'you', 'can', 'tell', 'us', 'everything', 'about', 'the', 'wedding'],\n",
       " ['but', 'i', 'can', 'join', 'you', 'for', 'the', 'post', 'lunch', 'walk'],\n",
       " ['i', 'have', 'leftovers', 'to', 'finish', ':face_with_hand_over_mouth:'],\n",
       " ['cool',\n",
       "  'do',\n",
       "  'you',\n",
       "  'want',\n",
       "  'to',\n",
       "  'have',\n",
       "  'lunch',\n",
       "  'break',\n",
       "  'together',\n",
       "  ':simple_smile:'],\n",
       " ['yes'],\n",
       " ['are', 'you', 'also', 'sitting', 'in', 'the', 'library', ':simple_smile:'],\n",
       " ['haha', 'no'],\n",
       " [':grinning_face_with_smiling_eyes:']]"
      ]
     },
     "execution_count": 96,
     "metadata": {},
     "output_type": "execute_result"
    }
   ],
   "source": [
    "clean_list = []\n",
    "number_words = []\n",
    "\n",
    "for message in dict_msg: # iterate over dictionaries of recipes\n",
    "    \n",
    "    # If there is a content key...\n",
    "    if 'content' in message.keys():\n",
    "        # Look in the content key\n",
    "        clean_msg = fix_text(message['content'])\n",
    "        \n",
    "        # Remove URLs\n",
    "        clean_msg = re.sub(r\"http\\S+\", \"\", clean_msg)\n",
    "        \n",
    "        # Convert letters to lower case\n",
    "        clean_msg = clean_msg.lower()\n",
    "        \n",
    "        # Get emoji in Meeke's format from the message\n",
    "        list_emoji_keys = re.findall('(:-*\\)|:-*\\(|=-*\\(|:-*D|:-*3|:-*P|:-*o|:-*0|=-*\\)|=-*D|=-*3|'\n",
    "                          '=-*P|=-*o|=-*0|x-*D|;-*D|;-*\\)|\\>\\.\\<|x.x|\\<3)', \n",
    "                          clean_msg, re.IGNORECASE)\n",
    "        \n",
    "        # Replace original emoji with readable format\n",
    "        if list_emoji_keys != []:            \n",
    "            for emoji_ in list_emoji_keys:\n",
    "                clean_msg = clean_msg.replace(emoji_,\" \"+dict_emoji[emoji_])\n",
    "                \n",
    "        for char in clean_msg:            \n",
    "            # Remove special characters (excluding emoji, spaces : or _, which appear in the emoji)\n",
    "            if not(char.islower() or char in [' ','_',':',\"'\"] or char in emoji.UNICODE_EMOJI): \n",
    "                clean_msg = clean_msg.replace(char, \"\")\n",
    "            \n",
    "            # If emoji, add a space before the emoji\n",
    "            if char in emoji.UNICODE_EMOJI:\n",
    "                clean_msg  = emoji.demojize(clean_msg.replace(char,' ' + char))\n",
    "        \n",
    "        # Create a list of words\n",
    "        number_words.append(len(clean_msg.split()))\n",
    "        clean_list.append(clean_msg.split())    \n",
    "        \n",
    "        #print(clean_msg.split())\n",
    "clean_list[0:10]"
   ]
  },
  {
   "cell_type": "markdown",
   "metadata": {},
   "source": [
    "### Create dataframe - message level"
   ]
  },
  {
   "cell_type": "code",
   "execution_count": 101,
   "metadata": {},
   "outputs": [
    {
     "data": {
      "text/html": [
       "<div>\n",
       "<style scoped>\n",
       "    .dataframe tbody tr th:only-of-type {\n",
       "        vertical-align: middle;\n",
       "    }\n",
       "\n",
       "    .dataframe tbody tr th {\n",
       "        vertical-align: top;\n",
       "    }\n",
       "\n",
       "    .dataframe thead th {\n",
       "        text-align: right;\n",
       "    }\n",
       "</style>\n",
       "<table border=\"1\" class=\"dataframe\">\n",
       "  <thead>\n",
       "    <tr style=\"text-align: right;\">\n",
       "      <th></th>\n",
       "      <th>sender_name</th>\n",
       "      <th>timestamp</th>\n",
       "      <th>number_words</th>\n",
       "    </tr>\n",
       "  </thead>\n",
       "  <tbody>\n",
       "    <tr>\n",
       "      <th>0</th>\n",
       "      <td>Paula Fermín Cueto</td>\n",
       "      <td>2018-05-09 13:57:22</td>\n",
       "      <td>3</td>\n",
       "    </tr>\n",
       "    <tr>\n",
       "      <th>1</th>\n",
       "      <td>Amalie Pauli Nyhagen</td>\n",
       "      <td>2018-05-09 08:39:14</td>\n",
       "      <td>6</td>\n",
       "    </tr>\n",
       "    <tr>\n",
       "      <th>2</th>\n",
       "      <td>Paula Fermín Cueto</td>\n",
       "      <td>2018-05-09 08:38:39</td>\n",
       "      <td>9</td>\n",
       "    </tr>\n",
       "    <tr>\n",
       "      <th>3</th>\n",
       "      <td>Paula Fermín Cueto</td>\n",
       "      <td>2018-05-09 08:38:13</td>\n",
       "      <td>10</td>\n",
       "    </tr>\n",
       "    <tr>\n",
       "      <th>4</th>\n",
       "      <td>Paula Fermín Cueto</td>\n",
       "      <td>2018-05-09 08:38:11</td>\n",
       "      <td>6</td>\n",
       "    </tr>\n",
       "    <tr>\n",
       "      <th>5</th>\n",
       "      <td>Amalie Pauli Nyhagen</td>\n",
       "      <td>2018-05-09 08:37:42</td>\n",
       "      <td>10</td>\n",
       "    </tr>\n",
       "    <tr>\n",
       "      <th>6</th>\n",
       "      <td>Paula Fermín Cueto</td>\n",
       "      <td>2018-05-09 08:36:57</td>\n",
       "      <td>1</td>\n",
       "    </tr>\n",
       "    <tr>\n",
       "      <th>7</th>\n",
       "      <td>Amalie Pauli Nyhagen</td>\n",
       "      <td>2018-05-09 08:36:25</td>\n",
       "      <td>8</td>\n",
       "    </tr>\n",
       "    <tr>\n",
       "      <th>8</th>\n",
       "      <td>Amalie Pauli Nyhagen</td>\n",
       "      <td>2018-05-09 08:05:33</td>\n",
       "      <td>2</td>\n",
       "    </tr>\n",
       "    <tr>\n",
       "      <th>9</th>\n",
       "      <td>Meeke Roet</td>\n",
       "      <td>2018-05-09 08:04:15</td>\n",
       "      <td>1</td>\n",
       "    </tr>\n",
       "  </tbody>\n",
       "</table>\n",
       "</div>"
      ],
      "text/plain": [
       "            sender_name           timestamp  number_words\n",
       "0    Paula Fermín Cueto 2018-05-09 13:57:22             3\n",
       "1  Amalie Pauli Nyhagen 2018-05-09 08:39:14             6\n",
       "2    Paula Fermín Cueto 2018-05-09 08:38:39             9\n",
       "3    Paula Fermín Cueto 2018-05-09 08:38:13            10\n",
       "4    Paula Fermín Cueto 2018-05-09 08:38:11             6\n",
       "5  Amalie Pauli Nyhagen 2018-05-09 08:37:42            10\n",
       "6    Paula Fermín Cueto 2018-05-09 08:36:57             1\n",
       "7  Amalie Pauli Nyhagen 2018-05-09 08:36:25             8\n",
       "8  Amalie Pauli Nyhagen 2018-05-09 08:05:33             2\n",
       "9            Meeke Roet 2018-05-09 08:04:15             1"
      ]
     },
     "execution_count": 101,
     "metadata": {},
     "output_type": "execute_result"
    }
   ],
   "source": [
    "# Convert list of dictionaries to dataframe\n",
    "df_msg = pd.DataFrame(dict_msg)\n",
    "\n",
    "# Filter rows of messages with content\n",
    "content_true = [isinstance(elem, str) for elem in df_msg['content']]\n",
    "df_msg = df_msg[content_true].reset_index()\n",
    "\n",
    "# Take only names and time\n",
    "df_msg = df_msg[['sender_name', 'timestamp']]\n",
    "\n",
    "# Fix bad unicode characters in sender and change time format\n",
    "df_msg['timestamp']   = df_msg['timestamp'].apply(datetime.datetime.fromtimestamp)\n",
    "df_msg['sender_name'] = df_msg['sender_name'].apply(fix_text)\n",
    "df_msg['number_words'] = number_words\n",
    "df_msg.head(10)"
   ]
  },
  {
   "cell_type": "markdown",
   "metadata": {},
   "source": [
    "### Dataframe - word level"
   ]
  },
  {
   "cell_type": "code",
   "execution_count": 102,
   "metadata": {},
   "outputs": [
    {
     "data": {
      "text/html": [
       "<div>\n",
       "<style scoped>\n",
       "    .dataframe tbody tr th:only-of-type {\n",
       "        vertical-align: middle;\n",
       "    }\n",
       "\n",
       "    .dataframe tbody tr th {\n",
       "        vertical-align: top;\n",
       "    }\n",
       "\n",
       "    .dataframe thead th {\n",
       "        text-align: right;\n",
       "    }\n",
       "</style>\n",
       "<table border=\"1\" class=\"dataframe\">\n",
       "  <thead>\n",
       "    <tr style=\"text-align: right;\">\n",
       "      <th></th>\n",
       "      <th>sender_name</th>\n",
       "      <th>timestamp</th>\n",
       "    </tr>\n",
       "  </thead>\n",
       "  <tbody>\n",
       "    <tr>\n",
       "      <th>0</th>\n",
       "      <td>Paula Fermín Cueto</td>\n",
       "      <td>2018-05-09 13:57:22</td>\n",
       "    </tr>\n",
       "    <tr>\n",
       "      <th>1</th>\n",
       "      <td>Paula Fermín Cueto</td>\n",
       "      <td>2018-05-09 13:57:22</td>\n",
       "    </tr>\n",
       "    <tr>\n",
       "      <th>2</th>\n",
       "      <td>Paula Fermín Cueto</td>\n",
       "      <td>2018-05-09 13:57:22</td>\n",
       "    </tr>\n",
       "    <tr>\n",
       "      <th>3</th>\n",
       "      <td>Amalie Pauli Nyhagen</td>\n",
       "      <td>2018-05-09 08:39:14</td>\n",
       "    </tr>\n",
       "    <tr>\n",
       "      <th>4</th>\n",
       "      <td>Amalie Pauli Nyhagen</td>\n",
       "      <td>2018-05-09 08:39:14</td>\n",
       "    </tr>\n",
       "    <tr>\n",
       "      <th>5</th>\n",
       "      <td>Amalie Pauli Nyhagen</td>\n",
       "      <td>2018-05-09 08:39:14</td>\n",
       "    </tr>\n",
       "    <tr>\n",
       "      <th>6</th>\n",
       "      <td>Amalie Pauli Nyhagen</td>\n",
       "      <td>2018-05-09 08:39:14</td>\n",
       "    </tr>\n",
       "    <tr>\n",
       "      <th>7</th>\n",
       "      <td>Amalie Pauli Nyhagen</td>\n",
       "      <td>2018-05-09 08:39:14</td>\n",
       "    </tr>\n",
       "    <tr>\n",
       "      <th>8</th>\n",
       "      <td>Amalie Pauli Nyhagen</td>\n",
       "      <td>2018-05-09 08:39:14</td>\n",
       "    </tr>\n",
       "    <tr>\n",
       "      <th>9</th>\n",
       "      <td>Paula Fermín Cueto</td>\n",
       "      <td>2018-05-09 08:38:39</td>\n",
       "    </tr>\n",
       "  </tbody>\n",
       "</table>\n",
       "</div>"
      ],
      "text/plain": [
       "            sender_name           timestamp\n",
       "0    Paula Fermín Cueto 2018-05-09 13:57:22\n",
       "1    Paula Fermín Cueto 2018-05-09 13:57:22\n",
       "2    Paula Fermín Cueto 2018-05-09 13:57:22\n",
       "3  Amalie Pauli Nyhagen 2018-05-09 08:39:14\n",
       "4  Amalie Pauli Nyhagen 2018-05-09 08:39:14\n",
       "5  Amalie Pauli Nyhagen 2018-05-09 08:39:14\n",
       "6  Amalie Pauli Nyhagen 2018-05-09 08:39:14\n",
       "7  Amalie Pauli Nyhagen 2018-05-09 08:39:14\n",
       "8  Amalie Pauli Nyhagen 2018-05-09 08:39:14\n",
       "9    Paula Fermín Cueto 2018-05-09 08:38:39"
      ]
     },
     "execution_count": 102,
     "metadata": {},
     "output_type": "execute_result"
    }
   ],
   "source": [
    "# Repeat row as many times as words in the the message\n",
    "df_msg = df_msg.set_index(['sender_name'])['timestamp'].repeat(df_msg['number_words']).reset_index()\n",
    "df_msg.head(10)"
   ]
  },
  {
   "cell_type": "markdown",
   "metadata": {},
   "source": [
    "Maybe it would be a good idea to add a column 'type' where we specify if a word is a stop word or an emoji, would make things easier for Tableau"
   ]
  }
 ],
 "metadata": {
  "kernelspec": {
   "display_name": "Python 3",
   "language": "python",
   "name": "python3"
  },
  "language_info": {
   "codemirror_mode": {
    "name": "ipython",
    "version": 3
   },
   "file_extension": ".py",
   "mimetype": "text/x-python",
   "name": "python",
   "nbconvert_exporter": "python",
   "pygments_lexer": "ipython3",
   "version": "3.6.4"
  }
 },
 "nbformat": 4,
 "nbformat_minor": 2
}
